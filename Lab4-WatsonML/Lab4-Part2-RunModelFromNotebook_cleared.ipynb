{
 "cells": [
  {
   "cell_type": "markdown",
   "metadata": {},
   "source": [
    "# Lab4 - Part 2: Using a deployed Watson Machine Learning model from a python notebook\n",
    "\n",
    "This is a 'stretch' lab to complement the Watson ML model training and deployment, we show how to invoke the deployed Watson ML scoring from a Jupyter Notebook\n",
    "\n",
    "### Gathering information from the WML environment and deployed model\n",
    "You will have to get out of this notebook, possibly in a separate tab, to gather the following information, or get it from your Notepad if you have correctly followed the previous Lab instructions.\n",
    "\n",
    "#### Watson Machine Learning Credentials:\n",
    "* You will need to retrieve your ML service credentials:\n",
    "  * These are available form the Watson Data Platform `Services/Compute Services` menu\n",
    "  * Selecting `Manage in IBM  Cloud` will take you to the service page where you can copy the credentials from\n",
    "* Paste the credentials in the code cell below and execute it"
   ]
  },
  {
   "cell_type": "code",
   "execution_count": null,
   "metadata": {},
   "outputs": [],
   "source": [
    "### REPLACE the code below with your own credentials placed in the wml_credentials variable\n",
    "\n",
    "wml_credentials={\n",
    "  \"url\": \"https://us-south.ml.cloud.ibm.com\",\n",
    "  \"access_key\": \"D2HOPDsxhZE310Dc5dP9p8xO3M3o5VH7bChSJuOGJeMI\",\n",
    "  \"username\": \"5ac9555e-631b-486c-b484-7d6e556c97e3\",\n",
    "  \"password\": \"78c4c71e-5eae-4ccd-926d-d8a40c264d18\",\n",
    "  \"instance_id\": \"76075c55-c628-45c5-9de4-143fbd42238d\"\n",
    "}"
   ]
  },
  {
   "cell_type": "markdown",
   "metadata": {},
   "source": [
    "#### Watson Machine Learning deployed model boilerplate code:\n",
    "* Navigate back to you Project's Assets, down to `Models` section\n",
    "* Open the deployed model, navigate to the `Implementation` tab\n",
    "* Copy the Python sample code from your Deployed ML instance, and paste to _partially_ **replace** the code cell below:\n",
    "  * Comment-out or remove the wml_credentials={....} lines, as they are already set in the cell above\n",
    "  * Set the `payload_scoring` back to: \n",
    "``` python\n",
    "payload_scoring = {\"fields\": [\"GENDER\", \"AGE\", \"MARITAL_STATUS\", \"PROFESSION\"], \"values\": [[\"M\",23,\"Married\",\"Professional\"],[\"F\",27,\"Single\",\"Professional\"]]}\n",
    "```\n",
    "* Execute the code cell, this will run the scoring against the two candidates specified in `payload_scoring`"
   ]
  },
  {
   "cell_type": "code",
   "execution_count": null,
   "metadata": {},
   "outputs": [],
   "source": [
    "import urllib3, requests, json\n",
    "\n",
    "# retrieve your wml_service_credentials_username, wml_service_credentials_password, and wml_service_credentials_url from the\n",
    "# Service credentials associated with your IBM Cloud Watson Machine Learning Service instance\n",
    "\n",
    "\n",
    "headers = urllib3.util.make_headers(basic_auth='{username}:{password}'.format(username=wml_credentials['username'], password=wml_credentials['password']))\n",
    "url = '{}/v3/identity/token'.format(wml_credentials['url'])\n",
    "response = requests.get(url, headers=headers)\n",
    "mltoken = json.loads(response.text).get('token')\n",
    "\n",
    "header = {'Content-Type': 'application/json', 'Authorization': 'Bearer ' + mltoken}\n",
    "\n",
    "# NOTE: manually define and pass the array(s) of values to be scored in the next line\n",
    "payload_scoring = {\"fields\": [\"GENDER\", \"AGE\", \"MARITAL_STATUS\", \"PROFESSION\"], \"values\": [[\"M\",23,\"Married\",\"Professional\"],[\"F\",27,\"Single\",\"Professional\"]]}\n",
    "\n",
    "response_scoring = requests.post('https://us-south.ml.cloud.ibm.com/v3/wml_instances/76075c55-c628-45c5-9de4-143fbd42238d/deployments/f8348682-bd48-4109-896b-05c2112fad7d/online', json=payload_scoring, headers=header)\n",
    "print(\"Scoring response\")\n",
    "print(json.loads(response_scoring.text))\n"
   ]
  },
  {
   "cell_type": "markdown",
   "metadata": {},
   "source": [
    "### Display scoring results\n",
    "As a final example, we will load the result scoring into a panda dataframe and display it with Brunel"
   ]
  },
  {
   "cell_type": "code",
   "execution_count": null,
   "metadata": {},
   "outputs": [],
   "source": [
    "# Create a panda DataFrame with the values and fields\n",
    "import pandas as pd\n",
    "jscore=json.loads(response_scoring.text)\n",
    "dfsc=pd.DataFrame(data=jscore['values'],columns=jscore['fields'])\n",
    "dfsc"
   ]
  },
  {
   "cell_type": "code",
   "execution_count": null,
   "metadata": {},
   "outputs": [],
   "source": [
    "import brunel\n",
    "%brunel data('dfsc') bar x(AGE) y(probability) color(GENDER)"
   ]
  },
  {
   "cell_type": "markdown",
   "metadata": {},
   "source": [
    "Feel free to experiment with other visualizations or input data"
   ]
  }
 ],
 "metadata": {
  "kernelspec": {
   "display_name": "Python 3.5 with Spark",
   "language": "python3",
   "name": "python3"
  },
  "language_info": {
   "codemirror_mode": {
    "name": "ipython",
    "version": 3
   },
   "file_extension": ".py",
   "mimetype": "text/x-python",
   "name": "python",
   "nbconvert_exporter": "python",
   "pygments_lexer": "ipython3",
   "version": "3.5.4"
  }
 },
 "nbformat": 4,
 "nbformat_minor": 1
}
